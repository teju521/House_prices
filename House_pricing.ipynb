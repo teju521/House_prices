{
 "cells": [
  {
   "cell_type": "markdown",
   "metadata": {},
   "source": [
    "# House Prices Dataset"
   ]
  },
  {
   "cell_type": "code",
   "execution_count": 72,
   "metadata": {},
   "outputs": [],
   "source": [
    "from IPython.core.interactiveshell import InteractiveShell\n",
    "InteractiveShell.ast_node_interactivity = \"all\"\n",
    "%matplotlib inline"
   ]
  },
  {
   "cell_type": "markdown",
   "metadata": {},
   "source": [
    "# Reading Train and Test Data and handling missing values"
   ]
  },
  {
   "cell_type": "code",
   "execution_count": 73,
   "metadata": {
    "scrolled": true
   },
   "outputs": [
    {
     "data": {
      "text/plain": [
       "(1460, 81)"
      ]
     },
     "execution_count": 73,
     "metadata": {},
     "output_type": "execute_result"
    },
    {
     "data": {
      "text/plain": [
       "(1459, 80)"
      ]
     },
     "execution_count": 73,
     "metadata": {},
     "output_type": "execute_result"
    }
   ],
   "source": [
    "from sklearn import feature_selection, model_selection, ensemble,linear_model, preprocessing, metrics\n",
    "import pandas as pd\n",
    "import numpy as np\n",
    "import seaborn as sns\n",
    "import matplotlib.pyplot as plt\n",
    "\n",
    "train = pd.read_csv(\"train.csv\")\n",
    "test = pd.read_csv(\"test.csv\")\n",
    "\n",
    "train.shape\n",
    "test.shape\n",
    "\n",
    "\n",
    "#replacing 'NA' values based on given data\n",
    "def replaceNAValues(cols):\n",
    "    if pd.isnull(cols):\n",
    "        return \"NO\"\n",
    "    else:\n",
    "        return cols\n",
    "\n",
    "\n",
    "#mode Imputation\n",
    "train.LotFrontage.fillna(train.LotFrontage.mode()[0], inplace=True)\n",
    "train.MasVnrType.fillna(train.MasVnrType.mode()[0], inplace=True)\n",
    "train.Electrical.fillna(train.Electrical.mode()[0], inplace=True)\n",
    "train.GarageYrBlt.fillna(train.GarageYrBlt.mode()[0], inplace=True)\n",
    "train.MasVnrArea.fillna(train.MasVnrArea.mode()[0], inplace=True)\n",
    "\n",
    "\n",
    "\n",
    "missFeatures = ['Alley', 'BsmtQual', 'BsmtCond', 'BsmtExposure', 'BsmtFinType1','BsmtFinType2','FireplaceQu',\n",
    "               'GarageType', 'GarageFinish', 'GarageQual','GarageCond', 'PoolQC', 'Fence','MiscFeature']\n",
    "for feature in missFeatures:\n",
    "    train[feature] = train[feature].apply(replaceNAValues)\n",
    "\n",
    "\n",
    "#converting dataTypes\n",
    "encoder = preprocessing.LabelEncoder()\n",
    "def convertType(data):\n",
    "    for col in data:\n",
    "        if data[col].dtype =='object':\n",
    "            data[col] = encoder.fit_transform(data[col])\n",
    "    return data\n",
    "\n",
    "\n",
    "train = convertType(train)\n",
    "\n",
    "\n",
    "\n"
   ]
  },
  {
   "cell_type": "markdown",
   "metadata": {},
   "source": [
    "# Applying Feature Selection Wrapper Technique based on Classifer Model"
   ]
  },
  {
   "cell_type": "code",
   "execution_count": 74,
   "metadata": {},
   "outputs": [],
   "source": [
    "model = ensemble.GradientBoostingRegressor()\n",
    "\n",
    "Y_train = train.SalePrice\n",
    "Y = Y_train\n",
    "X = train.drop(['SalePrice'],axis=1)\n",
    "mean = {}\n",
    "\n",
    "for i in [20,25,30,45,55]:\n",
    "    rfe = feature_selection.RFE(model, n_features_to_select=i)\n",
    "    rfe_fit = rfe.fit(X,Y)\n",
    "    kfold = model_selection.KFold(n_splits=5)\n",
    "    f = rfe_fit.get_support(1) #the most important features\n",
    "    X_train= train[train.columns[f]]\n",
    "    mean_squared_error = model_selection.cross_val_score(model, X_train,Y, cv=kfold, scoring ='neg_mean_absolute_error').mean()\n",
    "    mean[i] = [mean_squared_error, f]"
   ]
  },
  {
   "cell_type": "code",
   "execution_count": 75,
   "metadata": {},
   "outputs": [],
   "source": [
    "lst=[]\n",
    "low=99999999999999\n",
    "for val in mean.values():\n",
    "    lst.append(val[0])\n",
    "    for i in range(0, len(lst)):\n",
    "        #print(low, abs(lst[i]))\n",
    "        if abs(lst[i]) < low:\n",
    "            low = abs(lst[i])\n",
    "            features = val[1]\n",
    "\n",
    "            \n",
    "X_train = train[train.columns[features]] \n"
   ]
  },
  {
   "cell_type": "markdown",
   "metadata": {},
   "source": [
    "# Filtering Selected columns based on Wrapper Method from Test and Train Data "
   ]
  },
  {
   "cell_type": "code",
   "execution_count": 76,
   "metadata": {},
   "outputs": [],
   "source": [
    "X_test = test[test.columns[features]]"
   ]
  },
  {
   "cell_type": "markdown",
   "metadata": {},
   "source": [
    "# Handling Test Data Missing Values"
   ]
  },
  {
   "cell_type": "code",
   "execution_count": 77,
   "metadata": {},
   "outputs": [
    {
     "name": "stderr",
     "output_type": "stream",
     "text": [
      "C:\\Users\\Lenovo\\Anaconda3\\lib\\site-packages\\pandas\\core\\generic.py:6245: SettingWithCopyWarning: \n",
      "A value is trying to be set on a copy of a slice from a DataFrame\n",
      "\n",
      "See the caveats in the documentation: https://pandas.pydata.org/pandas-docs/stable/user_guide/indexing.html#returning-a-view-versus-a-copy\n",
      "  self._update_inplace(new_data)\n",
      "C:\\Users\\Lenovo\\Anaconda3\\lib\\site-packages\\ipykernel_launcher.py:14: SettingWithCopyWarning: \n",
      "A value is trying to be set on a copy of a slice from a DataFrame.\n",
      "Try using .loc[row_indexer,col_indexer] = value instead\n",
      "\n",
      "See the caveats in the documentation: https://pandas.pydata.org/pandas-docs/stable/user_guide/indexing.html#returning-a-view-versus-a-copy\n",
      "  \n",
      "C:\\Users\\Lenovo\\Anaconda3\\lib\\site-packages\\ipykernel_launcher.py:42: SettingWithCopyWarning: \n",
      "A value is trying to be set on a copy of a slice from a DataFrame.\n",
      "Try using .loc[row_indexer,col_indexer] = value instead\n",
      "\n",
      "See the caveats in the documentation: https://pandas.pydata.org/pandas-docs/stable/user_guide/indexing.html#returning-a-view-versus-a-copy\n"
     ]
    }
   ],
   "source": [
    "def handleFeaturesMissingData(X_test, features):\n",
    "    for val in features:\n",
    "        X_test[val].fillna(X_test[val].mode()[0], inplace=True)\n",
    "        \n",
    "null_values_features = X_test[X_test.columns[X_test.isnull().any()]]\n",
    "\n",
    "features_Null =[fea for fea in null_values_features if fea not in missFeatures]\n",
    "handleFeaturesMissingData(X_test, features_Null)\n",
    "\n",
    "\n",
    "Na_values_featuers = X_test[X_test.columns[X_test.isnull().any()]]\n",
    "\n",
    "for feature in Na_values_featuers:\n",
    "    X_test[feature] = X_test[feature].apply(replaceNAValues)\n",
    "\n",
    "#X_test.isnull().sum()\n",
    "\n",
    "\n",
    "X_test = convertType(X_test)\n"
   ]
  },
  {
   "cell_type": "markdown",
   "metadata": {},
   "source": [
    "# Train the Model"
   ]
  },
  {
   "cell_type": "code",
   "execution_count": 78,
   "metadata": {},
   "outputs": [
    {
     "data": {
      "text/plain": [
       "GradientBoostingRegressor()"
      ]
     },
     "execution_count": 78,
     "metadata": {},
     "output_type": "execute_result"
    }
   ],
   "source": [
    "model.fit(X_train,Y_train)"
   ]
  },
  {
   "cell_type": "markdown",
   "metadata": {},
   "source": [
    "# Predict the  Data"
   ]
  },
  {
   "cell_type": "code",
   "execution_count": 79,
   "metadata": {},
   "outputs": [],
   "source": [
    "y_predict = model.predict(X_test)\n"
   ]
  },
  {
   "cell_type": "markdown",
   "metadata": {},
   "source": [
    "# comparing prediction with Original Values"
   ]
  },
  {
   "cell_type": "code",
   "execution_count": 80,
   "metadata": {},
   "outputs": [
    {
     "data": {
      "text/plain": [
       "54670.20135931107"
      ]
     },
     "execution_count": 80,
     "metadata": {},
     "output_type": "execute_result"
    }
   ],
   "source": [
    "final = pd.DataFrame({'Id': test.Id, 'SalePrice': y_predict})\n",
    "kaggle_sub = pd.read_csv(\"sample_submission.csv\")\n",
    "\n",
    "ypred = final.SalePrice\n",
    "apred = kaggle_sub.SalePrice\n",
    "metrics.mean_absolute_error(ypred,apred)"
   ]
  },
  {
   "cell_type": "markdown",
   "metadata": {},
   "source": [
    "# Converting prediction result to CSV file"
   ]
  },
  {
   "cell_type": "code",
   "execution_count": 81,
   "metadata": {},
   "outputs": [],
   "source": [
    "final.to_csv('F:\\Kaggle_competition\\house-prices-advanced-regression-techniques/Housing_Predictions.csv',index = False,header = True)"
   ]
  }
 ],
 "metadata": {
  "kernelspec": {
   "display_name": "Python 3",
   "language": "python",
   "name": "python3"
  },
  "language_info": {
   "codemirror_mode": {
    "name": "ipython",
    "version": 3
   },
   "file_extension": ".py",
   "mimetype": "text/x-python",
   "name": "python",
   "nbconvert_exporter": "python",
   "pygments_lexer": "ipython3",
   "version": "3.7.3"
  }
 },
 "nbformat": 4,
 "nbformat_minor": 4
}
